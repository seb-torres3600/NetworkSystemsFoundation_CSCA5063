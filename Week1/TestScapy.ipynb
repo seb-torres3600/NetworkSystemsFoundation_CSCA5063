{
 "cells": [
  {
   "cell_type": "markdown",
   "metadata": {
    "deletable": false,
    "editable": false,
    "nbgrader": {
     "cell_type": "markdown",
     "checksum": "2fbd0e86dcae1d7a6aa3a584a44b7fec",
     "grade": false,
     "grade_id": "cell-927521777b394ade",
     "locked": true,
     "schema_version": 3,
     "solution": false,
     "task": false
    }
   },
   "source": [
    "# In this lab, we will learn to use a python packet manipulation library to modity Ethernet frames.\n",
    "\n",
    "# Scapy\n",
    "\n",
    "Scapy (https://scapy.net/) is a python library that enables manipulating packets.  Recall that network communication is more than just the ability to send 1s and 0s. We need structure so that both sides of the communication can understand each other.  In Ethernet, this was: \n",
    "\n",
    "\\[ dst \\]\\[ src \\]\\[ type \\]\\[ payload \\]\\[ FCS \\]\n",
    "\n",
    "This naturally can translate to a data structure in a programming language like Python.  With Scapy, you can read packets from a file, read live traffic from the network interface, or generate packets from scratch.  \n",
    "\n",
    "For a full tutorial, you can visit the scapy website.  Here, we'll go through just enough to complete this lab.\n",
    "\n",
    "Useful cheat sheet for scapy:\n",
    "https://wiki.sans.blue/Tools/pdfs/ScapyCheatSheet_v0.2.pdf\n"
   ]
  },
  {
   "cell_type": "markdown",
   "metadata": {
    "deletable": false,
    "editable": false,
    "nbgrader": {
     "cell_type": "markdown",
     "checksum": "a8f6cf28680e1ce8647cd5833b891739",
     "grade": false,
     "grade_id": "cell-1fffec1c61731b3c",
     "locked": true,
     "schema_version": 3,
     "solution": false,
     "task": false
    }
   },
   "source": [
    "First, you need to import the library.  We'll just import everything.  Then, we'll read in a trace of packets from a file."
   ]
  },
  {
   "cell_type": "code",
   "execution_count": 8,
   "metadata": {},
   "outputs": [],
   "source": [
    "from scapy.all import *\n",
    "\n",
    "pkts = rdpcap(\"intro-wireshark-trace1.pcap\")"
   ]
  },
  {
   "cell_type": "markdown",
   "metadata": {},
   "source": [
    "pkts is an array of the Packet data structure.  "
   ]
  },
  {
   "cell_type": "code",
   "execution_count": 3,
   "metadata": {},
   "outputs": [
    {
     "name": "stdout",
     "output_type": "stream",
     "text": [
      "True\n",
      "Ether / IPv6 / ICMPv6ND_RA / ICMPv6NDOptRDNSS / ICMPv6NDOptPrefixInfo / ICMPv6NDOptRouteInfo / ICMPv6 Neighbor Discovery Option - Source Link-Layer Address 00:50:f1:80:00:00\n",
      "Ethernet\n",
      "dst        : DestMACField                        = ('None')\n",
      "src        : SourceMACField                      = ('None')\n",
      "type       : XShortEnumField                     = ('36864')\n"
     ]
    }
   ],
   "source": [
    "pkt = pkts[1]\n",
    "\n",
    "# Do checks on what types are in the packet\n",
    "eth = Ether in pkt\n",
    "print(eth)\n",
    "\n",
    "# You can get the name of the layers in the packet (requesting a specific one)\n",
    "layer = pkt.getlayer(0)\n",
    "print(layer)\n",
    "\n",
    "# or, there's a variable within the pkt structure indicating the name of the type\n",
    "exp = pkt.name\n",
    "print (exp)\n",
    "\n",
    "# You can list all the available protocols - won't, since it's large\n",
    "#ls()\n",
    "\n",
    "# Or list the fields in a particular layer\n",
    "ls(Ether)"
   ]
  },
  {
   "cell_type": "code",
   "execution_count": 4,
   "metadata": {},
   "outputs": [
    {
     "name": "stdout",
     "output_type": "stream",
     "text": [
      "0000  33 33 00 00 00 01 00 50 F1 80 00 00 86 DD 60 00  33.....P......`.\n",
      "0010  00 00 00 78 3A FF FE 80 00 00 00 00 00 00 A4 F1  ...x:...........\n",
      "0020  94 FF FE C5 00 4E FF 02 00 00 00 00 00 00 00 00  .....N..........\n",
      "0030  00 00 00 00 00 01 86 00 A6 66 40 C0 00 B4 00 00  .........f@.....\n",
      "0040  00 00 00 00 00 00 19 05 00 00 00 01 51 80 20 01  ............Q. .\n",
      "0050  05 58 FE ED 00 00 00 00 00 00 00 00 00 01 20 01  .X............ .\n",
      "0060  05 58 FE ED 00 00 00 00 00 00 00 00 00 02 03 04  .X..............\n",
      "0070  40 C0 00 04 A5 18 00 04 A5 18 00 00 00 00 26 01  @.............&.\n",
      "0080  01 93 83 00 63 B5 00 00 00 00 00 00 00 00 18 03  ....c...........\n",
      "0090  00 00 00 00 00 B4 00 00 00 00 00 00 00 00 00 00  ................\n",
      "00a0  00 00 00 00 00 00 01 01 00 50 F1 80 00 00        .........P....\n"
     ]
    }
   ],
   "source": [
    "# Dump the packet contents in hex\n",
    "hexdump(pkt)"
   ]
  },
  {
   "cell_type": "code",
   "execution_count": 5,
   "metadata": {},
   "outputs": [
    {
     "name": "stdout",
     "output_type": "stream",
     "text": [
      "###[ Ethernet ]###\n",
      "  dst       = 33:33:00:00:00:01\n",
      "  src       = 00:50:f1:80:00:00\n",
      "  type      = IPv6\n",
      "###[ IPv6 ]###\n",
      "     version   = 6\n",
      "     tc        = 0\n",
      "     fl        = 0\n",
      "     plen      = 120\n",
      "     nh        = ICMPv6\n",
      "     hlim      = 255\n",
      "     src       = fe80::a4f1:94ff:fec5:4e\n",
      "     dst       = ff02::1\n",
      "###[ ICMPv6 Neighbor Discovery - Router Advertisement ]###\n",
      "        type      = Router Advertisement\n",
      "        code      = 0\n",
      "        cksum     = 0xa666\n",
      "        chlim     = 64\n",
      "        M         = 1\n",
      "        O         = 1\n",
      "        H         = 0\n",
      "        prf       = Medium (default)\n",
      "        P         = 0\n",
      "        res       = 0\n",
      "        routerlifetime= 180\n",
      "        reachabletime= 0\n",
      "        retranstimer= 0\n",
      "###[ ICMPv6 Neighbor Discovery Option - Recursive DNS Server Option ]###\n",
      "           type      = 25\n",
      "           len       = 5\n",
      "           res       = 0\n",
      "           lifetime  = 86400\n",
      "           dns       = [ 2001:558:feed::1, 2001:558:feed::2 ]\n",
      "###[ ICMPv6 Neighbor Discovery Option - Prefix Information ]###\n",
      "              type      = 3\n",
      "              len       = 4\n",
      "              prefixlen = 64\n",
      "              L         = 1\n",
      "              A         = 1\n",
      "              R         = 0\n",
      "              res1      = 0\n",
      "              validlifetime= 0x4a518\n",
      "              preferredlifetime= 0x4a518\n",
      "              res2      = 0x0\n",
      "              prefix    = 2601:193:8300:63b5::\n",
      "###[ ICMPv6 Neighbor Discovery Option - Route Information Option ]###\n",
      "                 type      = 24\n",
      "                 len       = 3\n",
      "                 plen      = 0\n",
      "                 res1      = 0\n",
      "                 prf       = Medium (default)\n",
      "                 res2      = 0\n",
      "                 rtlifetime= 180\n",
      "                 prefix    = ::\n",
      "###[ ICMPv6 Neighbor Discovery Option - Source Link-Layer Address ]###\n",
      "                    type      = 1\n",
      "                    len       = 1\n",
      "                    lladdr    = 00:50:f1:80:00:00\n",
      "\n"
     ]
    }
   ],
   "source": [
    "# Dump the packet in a nice format\n",
    "pkt.show()"
   ]
  },
  {
   "cell_type": "code",
   "execution_count": 6,
   "metadata": {},
   "outputs": [
    {
     "name": "stdout",
     "output_type": "stream",
     "text": [
      "###[ Ethernet ]###\n",
      "  dst       = 11:22:33:44:55:66\n",
      "  src       = 00:50:f1:80:00:00\n",
      "  type      = IPv6\n",
      "###[ IPv6 ]###\n",
      "     version   = 6\n",
      "     tc        = 0\n",
      "     fl        = 0\n",
      "     plen      = 120\n",
      "     nh        = ICMPv6\n",
      "     hlim      = 255\n",
      "     src       = fe80::a4f1:94ff:fec5:4e\n",
      "     dst       = ff02::1\n",
      "###[ ICMPv6 Neighbor Discovery - Router Advertisement ]###\n",
      "        type      = Router Advertisement\n",
      "        code      = 0\n",
      "        cksum     = 0xa666\n",
      "        chlim     = 64\n",
      "        M         = 1\n",
      "        O         = 1\n",
      "        H         = 0\n",
      "        prf       = Medium (default)\n",
      "        P         = 0\n",
      "        res       = 0\n",
      "        routerlifetime= 180\n",
      "        reachabletime= 0\n",
      "        retranstimer= 0\n",
      "###[ ICMPv6 Neighbor Discovery Option - Recursive DNS Server Option ]###\n",
      "           type      = 25\n",
      "           len       = 5\n",
      "           res       = 0\n",
      "           lifetime  = 86400\n",
      "           dns       = [ 2001:558:feed::1, 2001:558:feed::2 ]\n",
      "###[ ICMPv6 Neighbor Discovery Option - Prefix Information ]###\n",
      "              type      = 3\n",
      "              len       = 4\n",
      "              prefixlen = 64\n",
      "              L         = 1\n",
      "              A         = 1\n",
      "              R         = 0\n",
      "              res1      = 0\n",
      "              validlifetime= 0x4a518\n",
      "              preferredlifetime= 0x4a518\n",
      "              res2      = 0x0\n",
      "              prefix    = 2601:193:8300:63b5::\n",
      "###[ ICMPv6 Neighbor Discovery Option - Route Information Option ]###\n",
      "                 type      = 24\n",
      "                 len       = 3\n",
      "                 plen      = 0\n",
      "                 res1      = 0\n",
      "                 prf       = Medium (default)\n",
      "                 res2      = 0\n",
      "                 rtlifetime= 180\n",
      "                 prefix    = ::\n",
      "###[ ICMPv6 Neighbor Discovery Option - Source Link-Layer Address ]###\n",
      "                    type      = 1\n",
      "                    len       = 1\n",
      "                    lladdr    = 00:50:f1:80:00:00\n",
      "\n"
     ]
    }
   ],
   "source": [
    "# You can manipulate the packet through fields\n",
    "\n",
    "pkt.dst = \"11:22:33:44:55:66\"\n",
    "\n",
    "pkt.show()"
   ]
  },
  {
   "cell_type": "markdown",
   "metadata": {
    "deletable": false,
    "editable": false,
    "nbgrader": {
     "cell_type": "markdown",
     "checksum": "e12d4ab126e846d7fe06c09df0a109b0",
     "grade": false,
     "grade_id": "cell-aed1746c6aad58f5",
     "locked": true,
     "schema_version": 3,
     "solution": false,
     "task": false
    }
   },
   "source": [
    "Your task in this lab is to iterate over all packets we just read in (into the variable pkts), and if it is of type Ether, change it's source address to 11:11:11:11:11:11, and its destination address to 22:22:22:22:22:22"
   ]
  },
  {
   "cell_type": "code",
   "execution_count": 7,
   "metadata": {
    "deletable": false,
    "nbgrader": {
     "cell_type": "code",
     "checksum": "ddd22e55f99676054b314c573d3e6924",
     "grade": false,
     "grade_id": "cell-5fb9ce07c927d648",
     "locked": false,
     "schema_version": 3,
     "solution": true,
     "task": false
    }
   },
   "outputs": [],
   "source": [
    "# your code here\n",
    "for packet in pkts:\n",
    "    if Ether in packet:\n",
    "        packet.dst = \"22:22:22:22:22:22\"\n",
    "        packet.src = \"11:11:11:11:11:11\""
   ]
  },
  {
   "cell_type": "code",
   "execution_count": null,
   "metadata": {
    "deletable": false,
    "editable": false,
    "nbgrader": {
     "cell_type": "code",
     "checksum": "69d97adf7684aa1f041593b9e7b04614",
     "grade": true,
     "grade_id": "cell-d34bace8d047e3bc",
     "locked": true,
     "points": 3,
     "schema_version": 3,
     "solution": false,
     "task": false
    }
   },
   "outputs": [],
   "source": [
    "\"\"\"Check that you successfully modified all Ether type packets in pkts\"\"\"\n",
    "\n",
    "\n",
    "\n"
   ]
  }
 ],
 "metadata": {
  "kernelspec": {
   "display_name": "venv",
   "language": "python",
   "name": "python3"
  },
  "language_info": {
   "codemirror_mode": {
    "name": "ipython",
    "version": 3
   },
   "file_extension": ".py",
   "mimetype": "text/x-python",
   "name": "python",
   "nbconvert_exporter": "python",
   "pygments_lexer": "ipython3",
   "version": "3.12.3"
  }
 },
 "nbformat": 4,
 "nbformat_minor": 4
}
